{
 "cells": [
  {
   "cell_type": "code",
   "execution_count": 1,
   "id": "93635302-d3fa-460a-ba86-e894e379167c",
   "metadata": {},
   "outputs": [
    {
     "name": "stdout",
     "output_type": "stream",
     "text": [
      "welcome to python world program\n"
     ]
    }
   ],
   "source": [
    "print(\"welcome to python world program\")"
   ]
  },
  {
   "cell_type": "code",
   "execution_count": null,
   "id": "fa5a3727-0dbb-4816-ac46-79b174af60d9",
   "metadata": {},
   "outputs": [],
   "source": []
  }
 ],
 "metadata": {
  "kernelspec": {
   "display_name": "Python 3 (ipykernel)",
   "language": "python",
   "name": "python3"
  },
  "language_info": {
   "codemirror_mode": {
    "name": "ipython",
    "version": 3
   },
   "file_extension": ".py",
   "mimetype": "text/x-python",
   "name": "python",
   "nbconvert_exporter": "python",
   "pygments_lexer": "ipython3",
   "version": "3.12.5"
  }
 },
 "nbformat": 4,
 "nbformat_minor": 5
}
